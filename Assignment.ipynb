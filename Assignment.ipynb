{
 "cells": [
  {
   "cell_type": "code",
   "execution_count": 1,
   "id": "16bad5db-c163-47d3-8226-71e2645a10f9",
   "metadata": {},
   "outputs": [],
   "source": [
    "# Question 1\n",
    "def isIsomorphic(s, t):\n",
    "    s_to_t = {}\n",
    "    t_to_s = {}\n",
    "\n",
    "    for i in range(len(s)):\n",
    "        c1 = s[i]\n",
    "        c2 = t[i]\n",
    "\n",
    "        if c1 in s_to_t:\n",
    "            if s_to_t[c1] != c2:\n",
    "                return False\n",
    "        else:\n",
    "            s_to_t[c1] = c2\n",
    "\n",
    "        if c2 in t_to_s:\n",
    "            if t_to_s[c2] != c1:\n",
    "                return False\n",
    "        else:\n",
    "            t_to_s[c2] = c1\n",
    "\n",
    "    return True\n"
   ]
  },
  {
   "cell_type": "code",
   "execution_count": null,
   "id": "61f7989d-9888-4474-b86f-29df89fa6b54",
   "metadata": {},
   "outputs": [],
   "source": [
    "# Question 2\n",
    "def isStrobogrammatic(num):\n",
    "    mapping = {'0': '0', '1': '1', '6': '9', '8': '8', '9': '6'}\n",
    "    left, right = 0, len(num) - 1\n",
    "\n",
    "    while left <= right:\n",
    "        if num[left] not in mapping or num[right] != mapping[num[left]]:\n",
    "            return False\n",
    "        left += 1\n",
    "        right -= 1\n",
    "\n",
    "    return True\n"
   ]
  },
  {
   "cell_type": "code",
   "execution_count": 3,
   "id": "39c85445-3f75-4200-918b-f0d3306119e0",
   "metadata": {},
   "outputs": [],
   "source": [
    "# Question3 \n",
    "def addStrings(num1, num2):\n",
    "    result = \"\"\n",
    "    i, j = len(num1) - 1, len(num2) - 1\n",
    "    carry = 0\n",
    "\n",
    "    while i >= 0 or j >= 0 or carry > 0:\n",
    "        digit1 = int(num1[i]) if i >= 0 else 0\n",
    "        digit2 = int(num2[j]) if j >= 0 else 0\n",
    "        currentSum = digit1 + digit2 + carry\n",
    "        currentDigit = currentSum % 10\n",
    "        result = str(currentDigit) + result\n",
    "        carry = currentSum // 10\n",
    "        i -= 1\n",
    "        j -= 1\n",
    "\n",
    "    return result\n"
   ]
  },
  {
   "cell_type": "code",
   "execution_count": 4,
   "id": "e5f201ef-fb54-4c24-a610-7d06cd217db0",
   "metadata": {},
   "outputs": [],
   "source": [
    "# Question 4\n",
    "def reverseWords(s):\n",
    "    words = s.split()\n",
    "    reversed_words = [word[::-1] for word in words]\n",
    "    reversed_sentence = ' '.join(reversed_words)\n",
    "    return reversed_sentence\n"
   ]
  },
  {
   "cell_type": "code",
   "execution_count": 5,
   "id": "0981c6ba-fbf0-4a15-a705-faf164cfd97d",
   "metadata": {},
   "outputs": [],
   "source": [
    "# Question 5\n",
    "def reverseStr(s, k):\n",
    "    chars = list(s)\n",
    "    i = 0\n",
    "\n",
    "    while i < len(chars):\n",
    "        start = i\n",
    "        end = min(i + k - 1, len(chars) - 1)\n",
    "\n",
    "        while start < end:\n",
    "            chars[start], chars[end] = chars[end], chars[start]\n",
    "            start += 1\n",
    "            end -= 1\n",
    "\n",
    "        i += 2 * k\n",
    "\n",
    "    return ''.join(chars)\n"
   ]
  },
  {
   "cell_type": "code",
   "execution_count": 6,
   "id": "c7f57595-0f7b-4142-942a-121c2f04a607",
   "metadata": {},
   "outputs": [],
   "source": [
    "# Question 6\n",
    "def rotateString(s, goal):\n",
    "    if len(s) != len(goal):\n",
    "        return False\n",
    "\n",
    "    s_concat = s + s\n",
    "    return goal in s_concat\n"
   ]
  },
  {
   "cell_type": "code",
   "execution_count": 7,
   "id": "252831e7-2442-4da2-a031-e6cc1e2bd5bf",
   "metadata": {},
   "outputs": [],
   "source": [
    "# Question 7\n",
    "def backspaceCompare(s, t):\n",
    "    def processString(string):\n",
    "        stack = []\n",
    "        for char in string:\n",
    "            if char != '#':\n",
    "                stack.append(char)\n",
    "            elif stack:\n",
    "                stack.pop()\n",
    "        return ''.join(stack)\n",
    "\n",
    "    processed_s = processString(s)\n",
    "    processed_t = processString(t)\n",
    "\n",
    "    return processed_s == processed_t\n"
   ]
  },
  {
   "cell_type": "code",
   "execution_count": null,
   "id": "77314f35-36c1-4206-a870-37197abe4366",
   "metadata": {},
   "outputs": [],
   "source": [
    "# Question 8\n",
    "def checkStraightLine(coordinates):\n",
    "    x1, y1 = coordinates[0]\n",
    "\n",
    "    for i in range(1, len(coordinates)):\n",
    "        x, y = coordinates[i]\n",
    "        dx = x - x1\n",
    "        dy = y - y1\n",
    "\n",
    "        if dy * (x - x1) != dx * (y - y1):\n",
    "            return False\n",
    "\n",
    "    return True\n"
   ]
  }
 ],
 "metadata": {
  "kernelspec": {
   "display_name": "Python 3 (ipykernel)",
   "language": "python",
   "name": "python3"
  },
  "language_info": {
   "codemirror_mode": {
    "name": "ipython",
    "version": 3
   },
   "file_extension": ".py",
   "mimetype": "text/x-python",
   "name": "python",
   "nbconvert_exporter": "python",
   "pygments_lexer": "ipython3",
   "version": "3.10.8"
  }
 },
 "nbformat": 4,
 "nbformat_minor": 5
}
